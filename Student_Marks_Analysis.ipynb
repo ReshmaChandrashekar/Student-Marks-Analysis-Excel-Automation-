{
  "nbformat": 4,
  "nbformat_minor": 0,
  "metadata": {
    "colab": {
      "provenance": []
    },
    "kernelspec": {
      "name": "python3",
      "display_name": "Python 3"
    },
    "language_info": {
      "name": "python"
    }
  },
  "cells": [
    {
      "cell_type": "code",
      "execution_count": 1,
      "metadata": {
        "id": "PIhbafwjfqDD"
      },
      "outputs": [],
      "source": [
        "import pandas as pd\n",
        "import numpy as np\n",
        "import matplotlib.pyplot as plt\n",
        "from openpyxl import load_workbook\n",
        "from openpyxl.drawing.image import Image"
      ]
    },
    {
      "cell_type": "code",
      "source": [
        "data = {\n",
        "    \"StudentID\": [101, 102, 103, 104, 105, 106, 107],\n",
        "    \"Name\": [\"Alice\", \"Bob\", \"Charlie\", \"David\", \"Emma\", \"Frank\", \"Grace\"],\n",
        "    \"Math\": [95, 72, 88, 55, 80, 99, 68],\n",
        "    \"Physics\": [89, 65, 91, 62, 77, 95, 72],\n",
        "    \"Chemistry\": [92, 70, 85, 58, 79, 97, 74],\n",
        "    \"Biology\": [88, 60, 90, 61, 83, 96, 70]\n",
        "}\n",
        "\n",
        "df = pd.DataFrame(data)"
      ],
      "metadata": {
        "id": "XpsE6TwIfzgF"
      },
      "execution_count": 2,
      "outputs": []
    },
    {
      "cell_type": "code",
      "source": [
        "df[\"Total\"] = df[[\"Math\", \"Physics\", \"Chemistry\", \"Biology\"]].sum(axis=1)\n",
        "df[\"Average\"] = df[[\"Math\", \"Physics\", \"Chemistry\", \"Biology\"]].mean(axis=1)"
      ],
      "metadata": {
        "id": "V15jdQQGfzWM"
      },
      "execution_count": 3,
      "outputs": []
    },
    {
      "cell_type": "code",
      "source": [
        "conditions = [\n",
        "    (df[\"Average\"] >= 90),\n",
        "    (df[\"Average\"] >= 75) & (df[\"Average\"] < 90),\n",
        "    (df[\"Average\"] >= 60) & (df[\"Average\"] < 75),\n",
        "    (df[\"Average\"] < 60)\n",
        "]\n",
        "grades = [\"A\", \"B\", \"C\", \"F\"]\n",
        "df[\"Grade\"] = np.select(conditions, grades, default=\"F\")"
      ],
      "metadata": {
        "id": "WgnNmNPWfzIF"
      },
      "execution_count": 4,
      "outputs": []
    },
    {
      "cell_type": "code",
      "source": [
        "top_performers = {}\n",
        "for subject in [\"Math\", \"Physics\", \"Chemistry\", \"Biology\"]:\n",
        "    top3 = df.nlargest(3, subject)[[\"StudentID\", \"Name\", subject]]\n",
        "    top_performers[subject] = top3"
      ],
      "metadata": {
        "id": "2hgjJQKPfy_B"
      },
      "execution_count": 5,
      "outputs": []
    },
    {
      "cell_type": "code",
      "source": [
        "top_performers_df = pd.concat(\n",
        "    top_performers, names=[\"Subject\"]\n",
        ").reset_index(level=0)"
      ],
      "metadata": {
        "id": "-Q6UZYJKf-rA"
      },
      "execution_count": 6,
      "outputs": []
    },
    {
      "cell_type": "code",
      "source": [
        "avg_marks = df[[\"Math\", \"Physics\", \"Chemistry\", \"Biology\"]].mean()\n",
        "\n",
        "plt.figure(figsize=(8, 5))\n",
        "avg_marks.plot(kind=\"bar\", color=\"skyblue\", edgecolor=\"black\")\n",
        "plt.title(\"Average Marks per Subject\")\n",
        "plt.ylabel(\"Average Marks\")\n",
        "plt.tight_layout()\n",
        "plt.savefig(\"average_marks_chart.png\")\n",
        "plt.close()"
      ],
      "metadata": {
        "id": "S7XVUNI4f-jy"
      },
      "execution_count": 7,
      "outputs": []
    },
    {
      "cell_type": "code",
      "source": [
        "with pd.ExcelWriter(\"results.xlsx\", engine=\"openpyxl\") as writer:\n",
        "    df[[\"StudentID\", \"Name\", \"Total\", \"Average\", \"Grade\"]].to_excel(\n",
        "        writer, sheet_name=\"Summary\", index=False\n",
        "    )\n",
        "    top_performers_df.to_excel(writer, sheet_name=\"Top Performers\", index=False)\n",
        "    writer.book.save(\"results.xlsx\")"
      ],
      "metadata": {
        "id": "UgoS2oE9gGmU"
      },
      "execution_count": 8,
      "outputs": []
    },
    {
      "cell_type": "code",
      "source": [
        "wb = load_workbook(\"results.xlsx\")\n",
        "ws = wb.create_sheet(\"Chart\")\n",
        "img = Image(\"average_marks_chart.png\")\n",
        "ws.add_image(img, \"A1\")\n",
        "wb.save(\"results.xlsx\")\n",
        "print(\" Excel file 'results.xlsx' created successfully with Summary, Top Performers, and Chart.\")"
      ],
      "metadata": {
        "colab": {
          "base_uri": "https://localhost:8080/"
        },
        "id": "sLD4KppwgK9u",
        "outputId": "f5dad57a-e56f-430e-9276-bc92848dad7b"
      },
      "execution_count": 9,
      "outputs": [
        {
          "output_type": "stream",
          "name": "stdout",
          "text": [
            " Excel file 'results.xlsx' created successfully with Summary, Top Performers, and Chart.\n"
          ]
        }
      ]
    }
  ]
}